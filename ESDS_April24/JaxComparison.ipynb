{
 "cells": [
  {
   "cell_type": "markdown",
   "metadata": {},
   "source": [
    "# Quick Benchmarks of jax.numpy "
   ]
  },
  {
   "cell_type": "markdown",
   "metadata": {},
   "source": [
    "This is not designed to be an exhaustive list, or all edge cases. I just wanted to highlight somne of the speedups possible using jax.numpy as a drop in replacement for numpy. Installation is [here](https://jax.readthedocs.io/en/latest/installation.html). I found it very easy to install on a M2 Mac. \n",
    "\n",
    "pip install --upgrade \"jax[cpu]\""
   ]
  },
  {
   "cell_type": "markdown",
   "metadata": {},
   "source": [
    "##### These tests were all done locally, on Apple M2 hardware (CPU only)"
   ]
  },
  {
   "cell_type": "markdown",
   "metadata": {},
   "source": [
    "Feel free to reach out at tmartin at ucar dot edu if you have more questions"
   ]
  },
  {
   "cell_type": "code",
   "execution_count": 1,
   "metadata": {},
   "outputs": [],
   "source": [
    "import numpy as np\n",
    "import jax\n",
    "import jax.numpy as jnp\n",
    "import jax.scipy.linalg as jsl"
   ]
  },
  {
   "cell_type": "markdown",
   "metadata": {},
   "source": [
    "Some global variables"
   ]
  },
  {
   "cell_type": "code",
   "execution_count": 2,
   "metadata": {},
   "outputs": [],
   "source": [
    "num_randoms=1e7\n",
    "matrix_size = (10000,10000)\n",
    "\n",
    "num_loops = 10"
   ]
  },
  {
   "cell_type": "markdown",
   "metadata": {},
   "source": [
    "# numpy"
   ]
  },
  {
   "cell_type": "code",
   "execution_count": 3,
   "metadata": {},
   "outputs": [
    {
     "name": "stdout",
     "output_type": "stream",
     "text": [
      "2.36 s ± 6.16 ms per loop (mean ± std. dev. of 7 runs, 1 loop each)\n"
     ]
    }
   ],
   "source": [
    "%%timeit\n",
    "\n",
    "for i in range(num_loops):\n",
    "    random_numbers = np.random.uniform(low=-10, high=10, size=int(num_randoms))\n",
    "    \n",
    "    # numpy functions\n",
    "    a = np.sin(random_numbers)\n",
    "    b = np.abs(random_numbers)\n",
    "    c = np.arctan(random_numbers)\n",
    "    d = np.add(np.add(a, b), c)"
   ]
  },
  {
   "cell_type": "code",
   "execution_count": 4,
   "metadata": {},
   "outputs": [
    {
     "name": "stderr",
     "output_type": "stream",
     "text": [
      "/opt/miniconda3/envs/fastr/lib/python3.11/site-packages/numpy/linalg/linalg.py:2180: RuntimeWarning: overflow encountered in det\n",
      "  r = _umath_linalg.det(a, signature=signature)\n"
     ]
    },
    {
     "name": "stdout",
     "output_type": "stream",
     "text": [
      "11.9 s ± 542 ms per loop (mean ± std. dev. of 7 runs, 1 loop each)\n"
     ]
    }
   ],
   "source": [
    "%%timeit\n",
    "\n",
    "# some matrix math\n",
    "random_matrix = np.random.uniform(low=-10, high=10, size=matrix_size)\n",
    "inv_matrix = np.linalg.inv(random_matrix)\n",
    "det_matrix = np.linalg.det(random_matrix)"
   ]
  },
  {
   "cell_type": "code",
   "execution_count": 5,
   "metadata": {},
   "outputs": [
    {
     "name": "stdout",
     "output_type": "stream",
     "text": [
      "2.43 s ± 24.4 ms per loop (mean ± std. dev. of 7 runs, 1 loop each)\n"
     ]
    }
   ],
   "source": [
    "%%timeit\n",
    "\n",
    "ptp_matrix = np.random.uniform(low=-10, high=100, size=(1000000,500))\n",
    "peaks = np.ptp(ptp_matrix, axis=1)"
   ]
  },
  {
   "cell_type": "markdown",
   "metadata": {},
   "source": [
    "# jax"
   ]
  },
  {
   "cell_type": "code",
   "execution_count": 6,
   "metadata": {},
   "outputs": [
    {
     "name": "stdout",
     "output_type": "stream",
     "text": [
      "623 ms ± 10.1 ms per loop (mean ± std. dev. of 7 runs, 1 loop each)\n"
     ]
    }
   ],
   "source": [
    "%%timeit\n",
    "\n",
    "for i in range(num_loops):\n",
    "    random_numbers = jax.random.uniform(jax.random.PRNGKey(0), shape=(int(num_randoms),), minval=-10, maxval=10)\n",
    "    \n",
    "    # jax functions\n",
    "    a = jnp.sin(random_numbers)\n",
    "    b = jnp.abs(random_numbers)\n",
    "    c = jnp.arctan(random_numbers)\n",
    "    d = jnp.add(jnp.add(a, b), c)"
   ]
  },
  {
   "cell_type": "code",
   "execution_count": 7,
   "metadata": {},
   "outputs": [
    {
     "name": "stdout",
     "output_type": "stream",
     "text": [
      "6.2 s ± 110 ms per loop (mean ± std. dev. of 7 runs, 1 loop each)\n"
     ]
    }
   ],
   "source": [
    "%%timeit\n",
    "\n",
    "random_mat_jax = jax.random.uniform(jax.random.PRNGKey(0), shape=(matrix_size), minval=-10, maxval=10)\n",
    "inv_matrix = jsl.inv(random_mat_jax)\n",
    "det_matrix = jsl.det(random_mat_jax)"
   ]
  },
  {
   "cell_type": "code",
   "execution_count": 8,
   "metadata": {},
   "outputs": [
    {
     "name": "stdout",
     "output_type": "stream",
     "text": [
      "1.11 s ± 12.2 ms per loop (mean ± std. dev. of 7 runs, 1 loop each)\n"
     ]
    }
   ],
   "source": [
    "%%timeit\n",
    "\n",
    "ptp_matrix_jax = jax.random.uniform(jax.random.PRNGKey(0), shape=(1000000,500), minval=-10, maxval=100)\n",
    "peaks_jax = jnp.ptp(ptp_matrix_jax, axis=1)"
   ]
  }
 ],
 "metadata": {
  "kernelspec": {
   "display_name": "fastr",
   "language": "python",
   "name": "python3"
  },
  "language_info": {
   "codemirror_mode": {
    "name": "ipython",
    "version": 3
   },
   "file_extension": ".py",
   "mimetype": "text/x-python",
   "name": "python",
   "nbconvert_exporter": "python",
   "pygments_lexer": "ipython3",
   "version": "3.11.8"
  },
  "orig_nbformat": 4
 },
 "nbformat": 4,
 "nbformat_minor": 2
}
