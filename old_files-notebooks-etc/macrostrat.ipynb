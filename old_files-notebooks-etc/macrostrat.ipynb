{
 "cells": [
  {
   "cell_type": "code",
   "execution_count": 1,
   "metadata": {},
   "outputs": [],
   "source": [
    "import geopandas as gpd\n",
    "import requests"
   ]
  },
  {
   "cell_type": "code",
   "execution_count": 5,
   "metadata": {},
   "outputs": [],
   "source": [
    "\n",
    "# Step 1: Load the GeoJSON file\n",
    "geojson_file = r\"C:\\Users\\TyHow\\MinersAI Dropbox\\Tyler Howe\\ML_Pilot_Tyler_Data\\geospatial_data\\MASK.geojson\"\n",
    "gdf = gpd.read_file(geojson_file)\n",
    "\n",
    "# Step 2: Extract bounding box coordinates\n",
    "minx, miny, maxx, maxy = gdf.total_bounds\n",
    "\n",
    "# Calculate centroid of bounding box\n",
    "centroid_lat = (miny + maxy) / 2\n",
    "centroid_lng = (minx + maxx) / 2\n"
   ]
  },
  {
   "cell_type": "code",
   "execution_count": 7,
   "metadata": {},
   "outputs": [
    {
     "name": "stdout",
     "output_type": "stream",
     "text": [
      "{'error': {'v': 2, 'license': 'CC-BY 4.0', 'message': 'Invalid parameters passed', 'about': {'v': 2, 'license': 'CC-BY 4.0', 'description': 'Search and summarize columns based on unit properties or geographic location', 'options': {'parameters': {'unit_id': 'integer, a valid unit id', 'section_id': 'integer, a valid section id', 'col_id': 'integer, a valid column id', 'col_type': 'string, a column type', 'interval_name': 'string, chronostratigraphic time interval name', 'int_id': 'integer, a chronostratigraphic time interval ID from /defs/intervals', 'age': 'numerical age in millions of years before present', 'age_top': 'numerical age (Ma) - must be used with age_bottom and be less than age_bottom', 'age_bottom': 'numerical age (Ma) - must be used with age_top and be greater than age_top', 'lith_id': 'integer, ID of a lithology from /defs/lithologies', 'lith': 'string, specific lithology name (e.g., shale, sandstone)', 'lith_type': 'string, groups of lithologies (e.g., carbonate, siliciclastic)', 'lith_class': 'string, general lithologies (sedimentary, igneous, metamorphic)', 'lith_att_id': 'integer, ID of a lithology attribute from /defs/lithology_attributes', 'lith_att': 'string, specific lithology attribute name (e.g. fine, olivine, poorly washed)', 'lith_att_type': 'string, specific category of lithology attribute (e.g. grains, lithology, bedform)', 'environ_id': 'integer, specific environment ID from /defs/environments', 'environ': 'string, specific environment', 'environ_type': 'string, groups of environments', 'environ_class': 'string, general environments', 'econ_id': 'integer, ID of an economic attribute from /defs/econs', 'econ': 'string, name of an economic attribute', 'econ_type': 'string, name of an economic attribute type', 'econ_class': 'string, name of an economic attribute class', 'cltn_id': 'integer, one or more Paleobiology Database collection IDs', 'strat_name': 'a fuzzy stratigraphic name to match units to', 'strat_name_id': 'integer, a single or comma-separated list of stratigraphic IDs from /defs/strat_names', 'lat': 'number, decimal degree latitude, WGS84', 'lng': 'number, decimal degree longitude, WGS84', 'adjacents': 'boolean, if lat/lng or col_id is specified, optionally return all units in columns that touch the polygon containing the supplied lat/lng', 'project_id': 'a Macrostrat project ID', 'response': 'Any available response_type. Default is short.', 'format': 'string, desired output format'}, 'output_formats': ['json', 'csv', 'geojson', 'geojson_bare', 'topojson', 'topojson_bare'], 'examples': ['/api/columns?interval_name=Permian', '/api/columns?age=271', '/api/columns?age_top=200&age_bottom=250', '/api/columns?strat_name=mancos&format=geojson_bare', '/api/columns?lat=43&lng=-89&adjacents=true'], 'response_types': ['short', 'long'], 'fields': {'col_id': 'integer, unique identifier for column', 'col_name': 'text, name of column', 'lat': 'decimal, latitude in WGS84', 'lng': 'decimal, longigtude in WGS84', 'col_group': 'text, name of group the column belongs to, generally corresponds to geologic provinces', 'col_group_id': 'integer, the ID of the group to which the column belongs', 'group_col_id': 'float, the original column ID assigned to the column (used in the original source)', 'col_area': 'float, area in square kilometers of the Macrostrat column', 'project_id': 'unique identifier for project, corresponds to general geographic region', 'max_thick': 'number, maximum unit thickness in meters', 'max_min_thick': 'integer, the maximum possible minimum thickness in meters', 'min_min_thick': 'integer, the minimum possible minimum thickness in meters', 'b_age': 'number, continuous time age model estimated for initiation, in Myr before present', 't_age': 'number, continuous time age model estimated for truncation, in Myr before present', 'pbdb_collections': 'integer, count of PBDB collections in units/column', 'lith': 'text, specific lithology, see /defs/lithologies', 'environ': 'text, specific environment, see /defs/environments', 'econ': 'text, name of econonomic use, see defs/econs', 't_units': 'integer, total units', 't_sections': 'integer, total sections'}}}}}\n"
     ]
    }
   ],
   "source": [
    "url_columns = \"https://macrostrat.org/api/columns\"\n",
    "params_columns = {\n",
    "    \"lat_min\": miny,\n",
    "    \"lat_max\": maxy,\n",
    "    \"lng_min\": minx,\n",
    "    \"lng_max\": maxx,\n",
    "    \"format\": \"json\"\n",
    "}\n",
    "\n",
    "response = requests.get(url_columns, params=params_columns)\n",
    "if response.status_code == 200:\n",
    "    data = response.json()\n",
    "    print(data)\n",
    "else:\n",
    "    print(f\"Error: {response.status_code} - {response.text}\")"
   ]
  },
  {
   "cell_type": "code",
   "execution_count": null,
   "metadata": {},
   "outputs": [],
   "source": []
  }
 ],
 "metadata": {
  "kernelspec": {
   "display_name": "conda_env",
   "language": "python",
   "name": "python3"
  },
  "language_info": {
   "codemirror_mode": {
    "name": "ipython",
    "version": 3
   },
   "file_extension": ".py",
   "mimetype": "text/x-python",
   "name": "python",
   "nbconvert_exporter": "python",
   "pygments_lexer": "ipython3",
   "version": "3.12.5"
  }
 },
 "nbformat": 4,
 "nbformat_minor": 2
}
